{
 "cells": [
  {
   "cell_type": "code",
   "execution_count": 1,
   "id": "e9b6e216-64d0-4127-ab4f-a90678c35d0d",
   "metadata": {},
   "outputs": [],
   "source": [
    "from pydantic import BaseModel"
   ]
  },
  {
   "cell_type": "code",
   "execution_count": 4,
   "id": "0352976f-f8b5-48e7-9ee4-f094309d31e2",
   "metadata": {},
   "outputs": [],
   "source": [
    "class Person(BaseModel):\n",
    "    first_name : str\n",
    "    last_name: str"
   ]
  },
  {
   "cell_type": "code",
   "execution_count": 5,
   "id": "a70aff55-32bd-4263-902b-4dc0f1f8a2b6",
   "metadata": {},
   "outputs": [],
   "source": [
    "p = Person(first_name = \"test\", last_name = \"person\")"
   ]
  },
  {
   "cell_type": "code",
   "execution_count": 6,
   "id": "621b45d7-4311-4fc7-a4bc-6e37e49246fa",
   "metadata": {},
   "outputs": [
    {
     "data": {
      "text/plain": [
       "Person(first_name='test', last_name='person')"
      ]
     },
     "execution_count": 6,
     "metadata": {},
     "output_type": "execute_result"
    }
   ],
   "source": [
    "p"
   ]
  },
  {
   "cell_type": "markdown",
   "id": "9ea3fb77-0dfb-4786-92f3-dfa0cd466ac9",
   "metadata": {},
   "source": [
    "### Deserializing dict to the model "
   ]
  },
  {
   "cell_type": "code",
   "execution_count": 7,
   "id": "f2ca75dc-40ff-4dd7-8a0c-dac0cab4ded5",
   "metadata": {},
   "outputs": [],
   "source": [
    "data = { \"first_name\" : \"test\", \"last_name\" : \"person\" }"
   ]
  },
  {
   "cell_type": "code",
   "execution_count": 9,
   "id": "a420761f-8c26-400e-8a83-6c0e042743cc",
   "metadata": {},
   "outputs": [],
   "source": [
    "p = Person.model_validate(data)"
   ]
  },
  {
   "cell_type": "code",
   "execution_count": 10,
   "id": "7e065ac5-d134-41e8-9123-7f70171c2297",
   "metadata": {},
   "outputs": [
    {
     "data": {
      "text/plain": [
       "Person(first_name='test', last_name='person')"
      ]
     },
     "execution_count": 10,
     "metadata": {},
     "output_type": "execute_result"
    }
   ],
   "source": [
    "p"
   ]
  },
  {
   "cell_type": "markdown",
   "id": "53c8ec44-a019-4d0e-97af-ff216c1a4e5f",
   "metadata": {},
   "source": [
    "### Serializing model to dict "
   ]
  },
  {
   "cell_type": "code",
   "execution_count": 11,
   "id": "be95fd22-9d5c-4806-ac4e-371494d5795a",
   "metadata": {},
   "outputs": [
    {
     "data": {
      "text/plain": [
       "{'first_name': 'test', 'last_name': 'person'}"
      ]
     },
     "execution_count": 11,
     "metadata": {},
     "output_type": "execute_result"
    }
   ],
   "source": [
    "p.model_dump()"
   ]
  },
  {
   "cell_type": "markdown",
   "id": "277dbd8d-21da-4fc4-b24c-0eb298bf6bbf",
   "metadata": {},
   "source": [
    "### Serializing model to json "
   ]
  },
  {
   "cell_type": "code",
   "execution_count": 13,
   "id": "b4ec948f-9046-499f-8c92-6f018e33e057",
   "metadata": {},
   "outputs": [
    {
     "data": {
      "text/plain": [
       "'{\"first_name\":\"test\",\"last_name\":\"person\"}'"
      ]
     },
     "execution_count": 13,
     "metadata": {},
     "output_type": "execute_result"
    }
   ],
   "source": [
    "p.model_dump_json()"
   ]
  },
  {
   "cell_type": "markdown",
   "id": "fd95ba3a-3bb1-478c-b62c-7ad881ce4cc9",
   "metadata": {},
   "source": [
    "### Optional fields and Nullable fields"
   ]
  },
  {
   "cell_type": "code",
   "execution_count": 24,
   "id": "06c19f90-1e33-44bd-b55b-1d74defc44a7",
   "metadata": {},
   "outputs": [],
   "source": [
    "from typing import Union\n",
    "\n",
    "class Person(BaseModel):\n",
    "    first_name : str = \"test\"\n",
    "    last_name: str\n",
    "    ethinicity: Union[str,None] = None"
   ]
  },
  {
   "cell_type": "code",
   "execution_count": 25,
   "id": "0c08c5d9-9f65-46e3-b5e4-271b4a432d32",
   "metadata": {},
   "outputs": [],
   "source": [
    "p = Person(last_name=\"person\")"
   ]
  },
  {
   "cell_type": "code",
   "execution_count": 26,
   "id": "b9411ee8-559e-4389-95be-32c5b2917942",
   "metadata": {},
   "outputs": [
    {
     "data": {
      "text/plain": [
       "Person(first_name='test', last_name='person', ethinicity=None)"
      ]
     },
     "execution_count": 26,
     "metadata": {},
     "output_type": "execute_result"
    }
   ],
   "source": [
    "p"
   ]
  },
  {
   "cell_type": "markdown",
   "id": "3e0e2f67-e0b6-4ab4-8e4d-b1f6cdfde4e3",
   "metadata": {},
   "source": [
    "### Aliases "
   ]
  },
  {
   "cell_type": "code",
   "execution_count": 27,
   "id": "bc02d152-16f9-435b-bde3-0268cfb79d55",
   "metadata": {},
   "outputs": [],
   "source": [
    "from pydantic import Field\n",
    "\n",
    "class Person(BaseModel):\n",
    "    first_name : str = Field(alias=\"firstName\",default=\"test\")\n",
    "    last_name: str\n",
    "    ethinicity: Union[str,None] = None"
   ]
  },
  {
   "cell_type": "code",
   "execution_count": 28,
   "id": "0dc2f47f-a053-4447-96ab-48fc778e98ab",
   "metadata": {},
   "outputs": [],
   "source": [
    "data = { \"firstName\" : \"test\", \"last_name\" : \"person\" }"
   ]
  },
  {
   "cell_type": "code",
   "execution_count": 29,
   "id": "55d1ce24-ef67-4498-8445-7e9fc4d02dd1",
   "metadata": {},
   "outputs": [],
   "source": [
    "p = Person.model_validate(data)"
   ]
  },
  {
   "cell_type": "code",
   "execution_count": 30,
   "id": "47c03aea-02fe-432c-92ad-fb68ecb0a60d",
   "metadata": {},
   "outputs": [
    {
     "data": {
      "text/plain": [
       "Person(first_name='test', last_name='person', ethinicity=None)"
      ]
     },
     "execution_count": 30,
     "metadata": {},
     "output_type": "execute_result"
    }
   ],
   "source": [
    "p"
   ]
  },
  {
   "cell_type": "code",
   "execution_count": 34,
   "id": "8603edac-22d6-4bea-a931-c352e5820e67",
   "metadata": {},
   "outputs": [],
   "source": [
    "data = { \"first_name\" : \"test\", \"last_name\" : \"person\" }"
   ]
  },
  {
   "cell_type": "code",
   "execution_count": 35,
   "id": "c92c344c-46ab-4dcf-9730-1de8dc15d824",
   "metadata": {},
   "outputs": [],
   "source": [
    "p = Person.model_validate(data)"
   ]
  },
  {
   "cell_type": "code",
   "execution_count": 36,
   "id": "47fda3ba-1e0c-4202-a36e-e3044b6ca578",
   "metadata": {},
   "outputs": [
    {
     "data": {
      "text/plain": [
       "Person(first_name='test', last_name='person', ethinicity=None)"
      ]
     },
     "execution_count": 36,
     "metadata": {},
     "output_type": "execute_result"
    }
   ],
   "source": [
    "p"
   ]
  },
  {
   "cell_type": "markdown",
   "id": "23eb3563-0697-47af-ab77-4d8cdef54a96",
   "metadata": {},
   "source": [
    "### Default factory (Create default when creating instance) "
   ]
  },
  {
   "cell_type": "code",
   "execution_count": 37,
   "id": "ac324b49-53df-4380-8b9d-d50fcd48e9c1",
   "metadata": {},
   "outputs": [],
   "source": [
    "from datetime import datetime, timezone\n",
    "\n",
    "class User(BaseModel):\n",
    "    created_at: datetime = Field(default_factory= lambda: datetime.now(timezone.utc))"
   ]
  },
  {
   "cell_type": "code",
   "execution_count": 38,
   "id": "7d9a03a3-365c-45c4-b08f-6742f13a0e30",
   "metadata": {},
   "outputs": [],
   "source": [
    "user1 = User()"
   ]
  },
  {
   "cell_type": "code",
   "execution_count": 39,
   "id": "a5f8ab1b-39c6-4efe-afaa-655d3034d78c",
   "metadata": {},
   "outputs": [
    {
     "data": {
      "text/plain": [
       "User(created_at=datetime.datetime(2025, 3, 31, 3, 16, 55, 688378, tzinfo=datetime.timezone.utc))"
      ]
     },
     "execution_count": 39,
     "metadata": {},
     "output_type": "execute_result"
    }
   ],
   "source": [
    "user1"
   ]
  },
  {
   "cell_type": "code",
   "execution_count": 41,
   "id": "35ed9881-7aff-4ba3-94bf-d71c95a70ce1",
   "metadata": {},
   "outputs": [
    {
     "data": {
      "text/plain": [
       "{'created_at': datetime.datetime(2025, 3, 31, 3, 16, 55, 688378, tzinfo=datetime.timezone.utc)}"
      ]
     },
     "execution_count": 41,
     "metadata": {},
     "output_type": "execute_result"
    }
   ],
   "source": [
    "user1.model_dump()"
   ]
  },
  {
   "cell_type": "code",
   "execution_count": 43,
   "id": "803ac5c6-92ec-4efb-ac36-7cc46927f2f6",
   "metadata": {},
   "outputs": [
    {
     "data": {
      "text/plain": [
       "'{\"created_at\":\"2025-03-31T03:16:55.688378Z\"}'"
      ]
     },
     "execution_count": 43,
     "metadata": {},
     "output_type": "execute_result"
    }
   ],
   "source": [
    "user1.model_dump_json() # will get the string representation of the datetime"
   ]
  },
  {
   "cell_type": "markdown",
   "id": "b8d734e6-9f7c-4a88-8e6a-13a6f8d313ab",
   "metadata": {},
   "source": [
    "### Custom Serializer"
   ]
  },
  {
   "cell_type": "code",
   "execution_count": 46,
   "id": "953dceb1-99a8-461e-beb2-14354159e20e",
   "metadata": {},
   "outputs": [],
   "source": [
    "from pydantic import field_serializer\n",
    "\n",
    "class User(BaseModel):\n",
    "    created_at: datetime = Field(default_factory= lambda: datetime.now(timezone.utc))\n",
    "    \n",
    "    @field_serializer(\"created_at\")\n",
    "    def serialize_created(self, value):\n",
    "        return value.strftime(\"%Y-%m-%d\")"
   ]
  },
  {
   "cell_type": "code",
   "execution_count": 48,
   "id": "8997abc3-c0a2-40b0-b08a-980c95648f13",
   "metadata": {},
   "outputs": [
    {
     "data": {
      "text/plain": [
       "'{\"created_at\":\"2025-03-31\"}'"
      ]
     },
     "execution_count": 48,
     "metadata": {},
     "output_type": "execute_result"
    }
   ],
   "source": [
    "user1 = User()\n",
    "user1.model_dump_json()"
   ]
  },
  {
   "cell_type": "markdown",
   "id": "2dc21c89-b56f-48ef-bb0d-19b0735de122",
   "metadata": {},
   "source": [
    "### Custom Validator"
   ]
  },
  {
   "cell_type": "code",
   "execution_count": 64,
   "id": "18dffe57-6a50-4e87-9893-c24f6eceec20",
   "metadata": {},
   "outputs": [],
   "source": [
    "from pydantic import field_validator\n",
    "\n",
    "class User(BaseModel):\n",
    "    age: int\n",
    "    \n",
    "    @field_validator(\"age\") # field validator need to be applied to class methods and not instance methods\n",
    "    def validate_age(cls, value):\n",
    "        if value < 18:\n",
    "            raise ValueError(\"Age cannot be less than 18\")"
   ]
  },
  {
   "cell_type": "code",
   "execution_count": 69,
   "id": "2e9cb3d4-f31d-4d29-8876-f84fcd3dff4d",
   "metadata": {},
   "outputs": [
    {
     "name": "stdout",
     "output_type": "stream",
     "text": [
      "1 validation error for User\n",
      "age\n",
      "  Value error, Age cannot be less than 18 [type=value_error, input_value=17, input_type=int]\n",
      "    For further information visit https://errors.pydantic.dev/2.11/v/value_error\n"
     ]
    }
   ],
   "source": [
    "from pydantic import ValidationError\n",
    "\n",
    "try:\n",
    "    user1 = User(age=17)\n",
    "    user1.model_dump_json()\n",
    "except ValidationError as e:\n",
    "    print(e)"
   ]
  },
  {
   "cell_type": "markdown",
   "id": "3b946ff0-0375-4dbf-ae5d-4b2bc78c9f0b",
   "metadata": {},
   "source": [
    "### Custom Validator also transforms the value"
   ]
  },
  {
   "cell_type": "code",
   "execution_count": 80,
   "id": "3fd5c5c5-1478-422b-b89c-6bf7c9dcbdc1",
   "metadata": {},
   "outputs": [],
   "source": [
    "from pydantic import field_validator\n",
    "\n",
    "class User(BaseModel):\n",
    "    age: int\n",
    "    \n",
    "    @field_validator(\"age\") \n",
    "    def validate_age(cls, value):\n",
    "        if value < 18:\n",
    "            value = -1\n",
    "            return value"
   ]
  },
  {
   "cell_type": "code",
   "execution_count": 82,
   "id": "fa4539fd-7d48-4739-b255-299f1a4a84eb",
   "metadata": {},
   "outputs": [
    {
     "data": {
      "text/plain": [
       "{'age': -1}"
      ]
     },
     "execution_count": 82,
     "metadata": {},
     "output_type": "execute_result"
    }
   ],
   "source": [
    "user1 = User(age=17)\n",
    "user1.model_dump()"
   ]
  },
  {
   "cell_type": "code",
   "execution_count": null,
   "id": "02c47bce-1c0c-4abe-8731-01b862e35536",
   "metadata": {},
   "outputs": [],
   "source": []
  }
 ],
 "metadata": {
  "kernelspec": {
   "display_name": "python-snippets-venv",
   "language": "python",
   "name": "python-snippets-venv"
  },
  "language_info": {
   "codemirror_mode": {
    "name": "ipython",
    "version": 3
   },
   "file_extension": ".py",
   "mimetype": "text/x-python",
   "name": "python",
   "nbconvert_exporter": "python",
   "pygments_lexer": "ipython3",
   "version": "3.9.13"
  }
 },
 "nbformat": 4,
 "nbformat_minor": 5
}
