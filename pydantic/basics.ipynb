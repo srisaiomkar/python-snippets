{
 "cells": [
  {
   "cell_type": "code",
   "execution_count": 1,
   "id": "e9b6e216-64d0-4127-ab4f-a90678c35d0d",
   "metadata": {},
   "outputs": [],
   "source": [
    "from pydantic import BaseModel"
   ]
  },
  {
   "cell_type": "code",
   "execution_count": 4,
   "id": "0352976f-f8b5-48e7-9ee4-f094309d31e2",
   "metadata": {},
   "outputs": [],
   "source": [
    "class Person(BaseModel):\n",
    "    first_name : str\n",
    "    last_name: str"
   ]
  },
  {
   "cell_type": "code",
   "execution_count": 5,
   "id": "a70aff55-32bd-4263-902b-4dc0f1f8a2b6",
   "metadata": {},
   "outputs": [],
   "source": [
    "p = Person(first_name = \"test\", last_name = \"person\")"
   ]
  },
  {
   "cell_type": "code",
   "execution_count": 6,
   "id": "621b45d7-4311-4fc7-a4bc-6e37e49246fa",
   "metadata": {},
   "outputs": [
    {
     "data": {
      "text/plain": [
       "Person(first_name='test', last_name='person')"
      ]
     },
     "execution_count": 6,
     "metadata": {},
     "output_type": "execute_result"
    }
   ],
   "source": [
    "p"
   ]
  },
  {
   "cell_type": "markdown",
   "id": "9ea3fb77-0dfb-4786-92f3-dfa0cd466ac9",
   "metadata": {},
   "source": [
    "### Deserializing dict to the model "
   ]
  },
  {
   "cell_type": "code",
   "execution_count": 7,
   "id": "f2ca75dc-40ff-4dd7-8a0c-dac0cab4ded5",
   "metadata": {},
   "outputs": [],
   "source": [
    "data = { \"first_name\" : \"test\", \"last_name\" : \"person\" }"
   ]
  },
  {
   "cell_type": "code",
   "execution_count": 9,
   "id": "a420761f-8c26-400e-8a83-6c0e042743cc",
   "metadata": {},
   "outputs": [],
   "source": [
    "p = Person.model_validate(data)"
   ]
  },
  {
   "cell_type": "code",
   "execution_count": 10,
   "id": "7e065ac5-d134-41e8-9123-7f70171c2297",
   "metadata": {},
   "outputs": [
    {
     "data": {
      "text/plain": [
       "Person(first_name='test', last_name='person')"
      ]
     },
     "execution_count": 10,
     "metadata": {},
     "output_type": "execute_result"
    }
   ],
   "source": [
    "p"
   ]
  },
  {
   "cell_type": "markdown",
   "id": "53c8ec44-a019-4d0e-97af-ff216c1a4e5f",
   "metadata": {},
   "source": [
    "### Serializing model to dict "
   ]
  },
  {
   "cell_type": "code",
   "execution_count": 11,
   "id": "be95fd22-9d5c-4806-ac4e-371494d5795a",
   "metadata": {},
   "outputs": [
    {
     "data": {
      "text/plain": [
       "{'first_name': 'test', 'last_name': 'person'}"
      ]
     },
     "execution_count": 11,
     "metadata": {},
     "output_type": "execute_result"
    }
   ],
   "source": [
    "p.model_dump()"
   ]
  },
  {
   "cell_type": "markdown",
   "id": "277dbd8d-21da-4fc4-b24c-0eb298bf6bbf",
   "metadata": {},
   "source": [
    "### Serializing model to json "
   ]
  },
  {
   "cell_type": "code",
   "execution_count": 13,
   "id": "b4ec948f-9046-499f-8c92-6f018e33e057",
   "metadata": {},
   "outputs": [
    {
     "data": {
      "text/plain": [
       "'{\"first_name\":\"test\",\"last_name\":\"person\"}'"
      ]
     },
     "execution_count": 13,
     "metadata": {},
     "output_type": "execute_result"
    }
   ],
   "source": [
    "p.model_dump_json()"
   ]
  },
  {
   "cell_type": "markdown",
   "id": "fd95ba3a-3bb1-478c-b62c-7ad881ce4cc9",
   "metadata": {},
   "source": [
    "### Optional fields and Nullable fields"
   ]
  },
  {
   "cell_type": "code",
   "execution_count": 24,
   "id": "06c19f90-1e33-44bd-b55b-1d74defc44a7",
   "metadata": {},
   "outputs": [],
   "source": [
    "from typing import Union\n",
    "\n",
    "class Person(BaseModel):\n",
    "    first_name : str = \"test\"\n",
    "    last_name: str\n",
    "    ethinicity: Union[str,None] = None"
   ]
  },
  {
   "cell_type": "code",
   "execution_count": 25,
   "id": "0c08c5d9-9f65-46e3-b5e4-271b4a432d32",
   "metadata": {},
   "outputs": [],
   "source": [
    "p = Person(last_name=\"person\")"
   ]
  },
  {
   "cell_type": "code",
   "execution_count": 26,
   "id": "b9411ee8-559e-4389-95be-32c5b2917942",
   "metadata": {},
   "outputs": [
    {
     "data": {
      "text/plain": [
       "Person(first_name='test', last_name='person', ethinicity=None)"
      ]
     },
     "execution_count": 26,
     "metadata": {},
     "output_type": "execute_result"
    }
   ],
   "source": [
    "p"
   ]
  },
  {
   "cell_type": "markdown",
   "id": "3e0e2f67-e0b6-4ab4-8e4d-b1f6cdfde4e3",
   "metadata": {},
   "source": [
    "### Aliases "
   ]
  },
  {
   "cell_type": "code",
   "execution_count": 27,
   "id": "bc02d152-16f9-435b-bde3-0268cfb79d55",
   "metadata": {},
   "outputs": [],
   "source": [
    "from pydantic import Field\n",
    "\n",
    "class Person(BaseModel):\n",
    "    first_name : str = Field(alias=\"firstName\",default=\"test\")\n",
    "    last_name: str\n",
    "    ethinicity: Union[str,None] = None"
   ]
  },
  {
   "cell_type": "code",
   "execution_count": 28,
   "id": "0dc2f47f-a053-4447-96ab-48fc778e98ab",
   "metadata": {},
   "outputs": [],
   "source": [
    "data = { \"firstName\" : \"test\", \"last_name\" : \"person\" }"
   ]
  },
  {
   "cell_type": "code",
   "execution_count": 29,
   "id": "55d1ce24-ef67-4498-8445-7e9fc4d02dd1",
   "metadata": {},
   "outputs": [],
   "source": [
    "p = Person.model_validate(data)"
   ]
  },
  {
   "cell_type": "code",
   "execution_count": 30,
   "id": "47c03aea-02fe-432c-92ad-fb68ecb0a60d",
   "metadata": {},
   "outputs": [
    {
     "data": {
      "text/plain": [
       "Person(first_name='test', last_name='person', ethinicity=None)"
      ]
     },
     "execution_count": 30,
     "metadata": {},
     "output_type": "execute_result"
    }
   ],
   "source": [
    "p"
   ]
  },
  {
   "cell_type": "code",
   "execution_count": 34,
   "id": "8603edac-22d6-4bea-a931-c352e5820e67",
   "metadata": {},
   "outputs": [],
   "source": [
    "data = { \"first_name\" : \"test\", \"last_name\" : \"person\" }"
   ]
  },
  {
   "cell_type": "code",
   "execution_count": 35,
   "id": "c92c344c-46ab-4dcf-9730-1de8dc15d824",
   "metadata": {},
   "outputs": [],
   "source": [
    "p = Person.model_validate(data)"
   ]
  },
  {
   "cell_type": "code",
   "execution_count": 36,
   "id": "47fda3ba-1e0c-4202-a36e-e3044b6ca578",
   "metadata": {},
   "outputs": [
    {
     "data": {
      "text/plain": [
       "Person(first_name='test', last_name='person', ethinicity=None)"
      ]
     },
     "execution_count": 36,
     "metadata": {},
     "output_type": "execute_result"
    }
   ],
   "source": [
    "p"
   ]
  },
  {
   "cell_type": "code",
   "execution_count": null,
   "id": "3e9ebb89-68fa-43d1-8b23-dd9d8db60955",
   "metadata": {},
   "outputs": [],
   "source": []
  }
 ],
 "metadata": {
  "kernelspec": {
   "display_name": "python-snippets-venv",
   "language": "python",
   "name": "python-snippets-venv"
  },
  "language_info": {
   "codemirror_mode": {
    "name": "ipython",
    "version": 3
   },
   "file_extension": ".py",
   "mimetype": "text/x-python",
   "name": "python",
   "nbconvert_exporter": "python",
   "pygments_lexer": "ipython3",
   "version": "3.9.13"
  }
 },
 "nbformat": 4,
 "nbformat_minor": 5
}
