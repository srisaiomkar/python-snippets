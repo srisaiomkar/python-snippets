{
 "cells": [
  {
   "cell_type": "markdown",
   "metadata": {},
   "source": [
    "\n",
    "\n",
    "Write a function that, given an epoch timestamp, returns a datetime object set to the beginning of that month (so midnight of the first day of the month).\n",
    "\n",
    "For example, given the epoch time 12345678.9, your function should return:\n",
    "\n",
    "datetime.datetime(1970, 5, 1, 0, 0)\n",
    "\n"
   ]
  },
  {
   "cell_type": "code",
   "execution_count": 1,
   "metadata": {},
   "outputs": [
    {
     "data": {
      "text/plain": [
       "datetime.datetime(2025, 4, 2, 20, 11, 5, 625057)"
      ]
     },
     "execution_count": 1,
     "metadata": {},
     "output_type": "execute_result"
    }
   ],
   "source": [
    "import time\n",
    "from datetime import datetime\n",
    "\n",
    "epoch = time.time()\n",
    "\n",
    "dt = datetime.fromtimestamp(epoch)\n",
    "dt"
   ]
  },
  {
   "cell_type": "code",
   "execution_count": 4,
   "metadata": {},
   "outputs": [
    {
     "data": {
      "text/plain": [
       "datetime.datetime(2025, 4, 1, 0, 0)"
      ]
     },
     "execution_count": 4,
     "metadata": {},
     "output_type": "execute_result"
    }
   ],
   "source": [
    "new_dt = datetime(dt.year, dt.month, 1)\n",
    "new_dt"
   ]
  },
  {
   "cell_type": "code",
   "execution_count": 5,
   "metadata": {},
   "outputs": [
    {
     "data": {
      "text/plain": [
       "(datetime.datetime(2025, 4, 1, 0, 0), datetime.datetime(1970, 5, 1, 0, 0))"
      ]
     },
     "execution_count": 5,
     "metadata": {},
     "output_type": "execute_result"
    }
   ],
   "source": [
    "def test1(epoch):\n",
    "    dt = datetime.fromtimestamp(epoch)\n",
    "    return datetime(dt.year, dt.month, 1)\n",
    "\n",
    "test1(time.time()), test1(12345678.9)"
   ]
  },
  {
   "cell_type": "markdown",
   "metadata": {},
   "source": [
    "\n",
    "\n",
    "Write a function that returns the difference in hours between two dates provided as Python standard ISO formatted strings, rounded to the nearest hour. For simplicity, assume that these dates do not contain fractional seconds.\n",
    "\n",
    "For example, given these two dates:\n",
    "\n",
    "2001-01-01T13:50:23\n",
    "\n",
    "and\n",
    "\n",
    "2001-06-12T14:23:50\n",
    "\n",
    "your result should be 3889 hours.\n"
   ]
  },
  {
   "cell_type": "code",
   "execution_count": 8,
   "metadata": {},
   "outputs": [
    {
     "data": {
      "text/plain": [
       "3888"
      ]
     },
     "execution_count": 8,
     "metadata": {},
     "output_type": "execute_result"
    }
   ],
   "source": [
    "from datetime import datetime, timezone\n",
    "\n",
    "def test2(str1,str2):\n",
    "    dt1 = convert_to_naive(datetime.fromisoformat(str1))\n",
    "    dt2 = convert_to_naive(datetime.fromisoformat(str2))\n",
    "\n",
    "    td = dt1 - dt2\n",
    "    return abs(td.days * 24)\n",
    "\n",
    "\n",
    "def convert_to_naive(dt: datetime):\n",
    "    utc = dt.astimezone(timezone.utc)\n",
    "    return utc.replace(tzinfo=None)\n",
    "\n",
    "test2(\"2001-01-01T13:50:23\", \"2001-06-12T14:23:50\")"
   ]
  },
  {
   "cell_type": "markdown",
   "metadata": {},
   "source": [
    "\n",
    "\n",
    "Write a function that can be used to consistently format datetime objects into strings with some default format, but allows the caller to override the default format.\n",
    "\n",
    "For example, the default format could be mm/dd/yyyy hh:mm:ss am/pm, but your function allows itself to be called with some argument that can override that format.\n"
   ]
  },
  {
   "cell_type": "code",
   "execution_count": 15,
   "metadata": {},
   "outputs": [
    {
     "data": {
      "text/plain": [
       "('04/02/2025 08:24:27 PM', '02/04/2025 20:24:27')"
      ]
     },
     "execution_count": 15,
     "metadata": {},
     "output_type": "execute_result"
    }
   ],
   "source": [
    "from datetime import datetime\n",
    "\n",
    "def test3(dt: datetime, format: str = \"%m/%d/%Y %I:%M:%S %p\"):\n",
    "    return dt.strftime(format)\n",
    "\n",
    "test3(datetime.now()), test3(datetime.now(), \"%d/%m/%Y %H:%M:%S\")\n"
   ]
  }
 ],
 "metadata": {
  "kernelspec": {
   "display_name": "venv",
   "language": "python",
   "name": "python3"
  },
  "language_info": {
   "codemirror_mode": {
    "name": "ipython",
    "version": 3
   },
   "file_extension": ".py",
   "mimetype": "text/x-python",
   "name": "python",
   "nbconvert_exporter": "python",
   "pygments_lexer": "ipython3",
   "version": "3.9.13"
  }
 },
 "nbformat": 4,
 "nbformat_minor": 2
}
