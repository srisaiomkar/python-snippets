{
 "cells": [
  {
   "cell_type": "markdown",
   "id": "a320b02b",
   "metadata": {},
   "source": [
    "### Sleep and time functions in time module"
   ]
  },
  {
   "cell_type": "code",
   "execution_count": null,
   "id": "209c4431-750e-40d1-82d6-630f7002e79b",
   "metadata": {},
   "outputs": [
    {
     "name": "stdout",
     "output_type": "stream",
     "text": [
      "2.0026405419999946\n"
     ]
    }
   ],
   "source": [
    "from time import perf_counter, sleep\n",
    "\n",
    "start = perf_counter()\n",
    "sleep(2) # sleep is also from time module\n",
    "end = perf_counter()\n",
    "\n",
    "elapsed = end - start # in seconds\n",
    "print(elapsed)\n"
   ]
  },
  {
   "cell_type": "markdown",
   "id": "ba05d3c2",
   "metadata": {},
   "source": [
    "### Epoch time - \n",
    "##### how much time (s in this case) has passed from a particular date Ex 1970-01-01 in UNIX systems"
   ]
  },
  {
   "cell_type": "code",
   "execution_count": null,
   "id": "173d6470",
   "metadata": {},
   "outputs": [
    {
     "name": "stdout",
     "output_type": "stream",
     "text": [
      "time.struct_time(tm_year=1970, tm_mon=1, tm_mday=1, tm_hour=0, tm_min=0, tm_sec=0, tm_wday=3, tm_yday=1, tm_isdst=0)\n",
      "time.struct_time(tm_year=1969, tm_mon=12, tm_mday=30, tm_hour=20, tm_min=13, tm_sec=20, tm_wday=1, tm_yday=364, tm_isdst=0)\n",
      "time.struct_time(tm_year=1973, tm_mon=3, tm_mday=3, tm_hour=9, tm_min=46, tm_sec=40, tm_wday=5, tm_yday=62, tm_isdst=0)\n"
     ]
    }
   ],
   "source": [
    "from time import gmtime # gmtime converts epoch time to time struct\n",
    "\n",
    "print(gmtime(0))\n",
    "print(gmtime(-100_000))\n",
    "print(gmtime(100_000_000))"
   ]
  },
  {
   "cell_type": "code",
   "execution_count": 11,
   "id": "4a0b42fc",
   "metadata": {},
   "outputs": [
    {
     "data": {
      "text/plain": [
       "1743473205.0949051"
      ]
     },
     "execution_count": 11,
     "metadata": {},
     "output_type": "execute_result"
    }
   ],
   "source": [
    "import time\n",
    "\n",
    "time.time() # current epoch time"
   ]
  },
  {
   "cell_type": "code",
   "execution_count": 12,
   "id": "7603c85e",
   "metadata": {},
   "outputs": [
    {
     "data": {
      "text/plain": [
       "time.struct_time(tm_year=2025, tm_mon=4, tm_mday=1, tm_hour=2, tm_min=14, tm_sec=33, tm_wday=1, tm_yday=91, tm_isdst=0)"
      ]
     },
     "execution_count": 12,
     "metadata": {},
     "output_type": "execute_result"
    }
   ],
   "source": [
    "gmtime(time.time())"
   ]
  },
  {
   "cell_type": "code",
   "execution_count": 15,
   "id": "adf8b1d1",
   "metadata": {},
   "outputs": [
    {
     "name": "stdout",
     "output_type": "stream",
     "text": [
      "2025\n",
      "4\n"
     ]
    }
   ],
   "source": [
    "current = gmtime(time.time())\n",
    "print(current.tm_year)\n",
    "print(current.tm_mon)"
   ]
  },
  {
   "cell_type": "markdown",
   "id": "2ebaceb9",
   "metadata": {},
   "source": [
    "### Convert time struct to epoch"
   ]
  },
  {
   "cell_type": "code",
   "execution_count": 16,
   "id": "0f15b4a0",
   "metadata": {},
   "outputs": [
    {
     "data": {
      "text/plain": [
       "1743475692"
      ]
     },
     "execution_count": 16,
     "metadata": {},
     "output_type": "execute_result"
    }
   ],
   "source": [
    "from calendar import timegm\n",
    "\n",
    "timegm(current)"
   ]
  },
  {
   "cell_type": "markdown",
   "id": "9a8794b7",
   "metadata": {},
   "source": [
    "#### Converting Time struct to string"
   ]
  },
  {
   "cell_type": "code",
   "execution_count": 23,
   "id": "3d2a06d7",
   "metadata": {},
   "outputs": [
    {
     "data": {
      "text/plain": [
       "'2025-04-01 Tuesday 02:48:12'"
      ]
     },
     "execution_count": 23,
     "metadata": {},
     "output_type": "execute_result"
    }
   ],
   "source": [
    "from time import strftime # strftime works on time structs\n",
    "\n",
    "strftime('%Y-%m-%d %A %H:%M:%S', current)\n"
   ]
  },
  {
   "cell_type": "markdown",
   "id": "de860cca",
   "metadata": {},
   "source": [
    "#### Converting string to date struct"
   ]
  },
  {
   "cell_type": "code",
   "execution_count": 24,
   "id": "93f4daff",
   "metadata": {},
   "outputs": [
    {
     "name": "stdout",
     "output_type": "stream",
     "text": [
      "time.struct_time(tm_year=2025, tm_mon=3, tm_mday=31, tm_hour=0, tm_min=0, tm_sec=0, tm_wday=0, tm_yday=90, tm_isdst=-1)\n"
     ]
    }
   ],
   "source": [
    "from time import strptime\n",
    "\n",
    "s = \"2025-03-31\"\n",
    "\n",
    "d = strptime(s,\"%Y-%m-%d\")\n",
    "\n",
    "print(d)"
   ]
  }
 ],
 "metadata": {
  "kernelspec": {
   "display_name": "venv",
   "language": "python",
   "name": "python3"
  },
  "language_info": {
   "codemirror_mode": {
    "name": "ipython",
    "version": 3
   },
   "file_extension": ".py",
   "mimetype": "text/x-python",
   "name": "python",
   "nbconvert_exporter": "python",
   "pygments_lexer": "ipython3",
   "version": "3.9.13"
  }
 },
 "nbformat": 4,
 "nbformat_minor": 5
}
